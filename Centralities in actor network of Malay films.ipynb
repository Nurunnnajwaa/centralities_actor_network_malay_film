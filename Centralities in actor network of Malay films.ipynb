{
 "cells": [
  {
   "cell_type": "markdown",
   "id": "06ffc399",
   "metadata": {},
   "source": [
    "## Import related libraries"
   ]
  },
  {
   "cell_type": "code",
   "execution_count": 1,
   "id": "469e6637",
   "metadata": {},
   "outputs": [],
   "source": [
    "import csv\n",
    "import pandas as pd\n",
    "import networkx as nx\n",
    "from operator import itemgetter\n",
    "from itertools import combinations\n",
    "%matplotlib inline"
   ]
  },
  {
   "cell_type": "code",
   "execution_count": 2,
   "id": "a0daa4f3",
   "metadata": {},
   "outputs": [
    {
     "data": {
      "text/html": [
       "<div>\n",
       "<style scoped>\n",
       "    .dataframe tbody tr th:only-of-type {\n",
       "        vertical-align: middle;\n",
       "    }\n",
       "\n",
       "    .dataframe tbody tr th {\n",
       "        vertical-align: top;\n",
       "    }\n",
       "\n",
       "    .dataframe thead th {\n",
       "        text-align: right;\n",
       "    }\n",
       "</style>\n",
       "<table border=\"1\" class=\"dataframe\">\n",
       "  <thead>\n",
       "    <tr style=\"text-align: right;\">\n",
       "      <th></th>\n",
       "      <th>Actor</th>\n",
       "      <th>Film</th>\n",
       "      <th>Year</th>\n",
       "      <th>Genre</th>\n",
       "      <th>Gender</th>\n",
       "      <th>Races</th>\n",
       "      <th>Debut year</th>\n",
       "    </tr>\n",
       "  </thead>\n",
       "  <tbody>\n",
       "    <tr>\n",
       "      <th>0</th>\n",
       "      <td>Amai Kamarudin</td>\n",
       "      <td>7 Hari Kisah Cinta Langkawi</td>\n",
       "      <td>2019</td>\n",
       "      <td>Comedy</td>\n",
       "      <td>Male</td>\n",
       "      <td>Malay</td>\n",
       "      <td>2008</td>\n",
       "    </tr>\n",
       "    <tr>\n",
       "      <th>1</th>\n",
       "      <td>Josiah Hogan</td>\n",
       "      <td>7 Hari Kisah Cinta Langkawi</td>\n",
       "      <td>2019</td>\n",
       "      <td>Comedy</td>\n",
       "      <td>Male</td>\n",
       "      <td>Malay</td>\n",
       "      <td>2013</td>\n",
       "    </tr>\n",
       "    <tr>\n",
       "      <th>2</th>\n",
       "      <td>Shaharuddin Thamby</td>\n",
       "      <td>7 Hari Kisah Cinta Langkawi</td>\n",
       "      <td>2019</td>\n",
       "      <td>Comedy</td>\n",
       "      <td>Male</td>\n",
       "      <td>Malay</td>\n",
       "      <td>1989</td>\n",
       "    </tr>\n",
       "    <tr>\n",
       "      <th>3</th>\n",
       "      <td>Sharifah Shahirah</td>\n",
       "      <td>7 Hari Kisah Cinta Langkawi</td>\n",
       "      <td>2019</td>\n",
       "      <td>Comedy</td>\n",
       "      <td>Female</td>\n",
       "      <td>Malay</td>\n",
       "      <td>1993</td>\n",
       "    </tr>\n",
       "    <tr>\n",
       "      <th>4</th>\n",
       "      <td>Chi Azim</td>\n",
       "      <td>7 Hari Kisah Cinta Langkawi</td>\n",
       "      <td>2019</td>\n",
       "      <td>Comedy</td>\n",
       "      <td>Male</td>\n",
       "      <td>Malay</td>\n",
       "      <td>2019</td>\n",
       "    </tr>\n",
       "  </tbody>\n",
       "</table>\n",
       "</div>"
      ],
      "text/plain": [
       "                Actor                         Film  Year   Genre  Gender  \\\n",
       "0      Amai Kamarudin  7 Hari Kisah Cinta Langkawi  2019  Comedy    Male   \n",
       "1        Josiah Hogan  7 Hari Kisah Cinta Langkawi  2019  Comedy    Male   \n",
       "2  Shaharuddin Thamby  7 Hari Kisah Cinta Langkawi  2019  Comedy    Male   \n",
       "3   Sharifah Shahirah  7 Hari Kisah Cinta Langkawi  2019  Comedy  Female   \n",
       "4           Chi Azim   7 Hari Kisah Cinta Langkawi  2019  Comedy    Male   \n",
       "\n",
       "   Races  Debut year  \n",
       "0  Malay        2008  \n",
       "1  Malay        2013  \n",
       "2  Malay        1989  \n",
       "3  Malay        1993  \n",
       "4  Malay        2019  "
      ]
     },
     "execution_count": 2,
     "metadata": {},
     "output_type": "execute_result"
    }
   ],
   "source": [
    "#read the csv file\n",
    "index=pd.read_csv('Filmandactor.csv')\n",
    "\n",
    "#view the first five rows in data\n",
    "index.head()"
   ]
  },
  {
   "cell_type": "markdown",
   "id": "7ea76c4e",
   "metadata": {},
   "source": [
    "## Calculate the total number of films for each actors"
   ]
  },
  {
   "cell_type": "code",
   "execution_count": 3,
   "id": "35e50acb",
   "metadata": {},
   "outputs": [
    {
     "data": {
      "text/html": [
       "<div>\n",
       "<style scoped>\n",
       "    .dataframe tbody tr th:only-of-type {\n",
       "        vertical-align: middle;\n",
       "    }\n",
       "\n",
       "    .dataframe tbody tr th {\n",
       "        vertical-align: top;\n",
       "    }\n",
       "\n",
       "    .dataframe thead th {\n",
       "        text-align: right;\n",
       "    }\n",
       "</style>\n",
       "<table border=\"1\" class=\"dataframe\">\n",
       "  <thead>\n",
       "    <tr style=\"text-align: right;\">\n",
       "      <th></th>\n",
       "      <th>Total film</th>\n",
       "    </tr>\n",
       "    <tr>\n",
       "      <th>Actor</th>\n",
       "      <th></th>\n",
       "    </tr>\n",
       "  </thead>\n",
       "  <tbody>\n",
       "    <tr>\n",
       "      <th>Pekin Ibrahim</th>\n",
       "      <td>16</td>\n",
       "    </tr>\n",
       "    <tr>\n",
       "      <th>Namron</th>\n",
       "      <td>12</td>\n",
       "    </tr>\n",
       "    <tr>\n",
       "      <th>Soffi Jikan</th>\n",
       "      <td>10</td>\n",
       "    </tr>\n",
       "    <tr>\n",
       "      <th>Remy Ishak</th>\n",
       "      <td>10</td>\n",
       "    </tr>\n",
       "    <tr>\n",
       "      <th>Zizan Razak</th>\n",
       "      <td>9</td>\n",
       "    </tr>\n",
       "  </tbody>\n",
       "</table>\n",
       "</div>"
      ],
      "text/plain": [
       "               Total film\n",
       "Actor                    \n",
       "Pekin Ibrahim          16\n",
       "Namron                 12\n",
       "Soffi Jikan            10\n",
       "Remy Ishak             10\n",
       "Zizan Razak             9"
      ]
     },
     "execution_count": 3,
     "metadata": {},
     "output_type": "execute_result"
    }
   ],
   "source": [
    "new_index = index.Actor.value_counts().rename_axis('Actor').to_frame('Total film')\n",
    "\n",
    "#view the first five rows in data\n",
    "new_index.head()"
   ]
  },
  {
   "cell_type": "code",
   "execution_count": 4,
   "id": "cf532936",
   "metadata": {},
   "outputs": [
    {
     "data": {
      "text/html": [
       "<div>\n",
       "<style scoped>\n",
       "    .dataframe tbody tr th:only-of-type {\n",
       "        vertical-align: middle;\n",
       "    }\n",
       "\n",
       "    .dataframe tbody tr th {\n",
       "        vertical-align: top;\n",
       "    }\n",
       "\n",
       "    .dataframe thead th {\n",
       "        text-align: right;\n",
       "    }\n",
       "</style>\n",
       "<table border=\"1\" class=\"dataframe\">\n",
       "  <thead>\n",
       "    <tr style=\"text-align: right;\">\n",
       "      <th></th>\n",
       "      <th>Actor</th>\n",
       "      <th>Film</th>\n",
       "      <th>Year</th>\n",
       "      <th>Genre</th>\n",
       "      <th>Gender</th>\n",
       "      <th>Races</th>\n",
       "      <th>Debut year</th>\n",
       "      <th>Total film</th>\n",
       "    </tr>\n",
       "  </thead>\n",
       "  <tbody>\n",
       "    <tr>\n",
       "      <th>0</th>\n",
       "      <td>Amai Kamarudin</td>\n",
       "      <td>7 Hari Kisah Cinta Langkawi</td>\n",
       "      <td>2019</td>\n",
       "      <td>Comedy</td>\n",
       "      <td>Male</td>\n",
       "      <td>Malay</td>\n",
       "      <td>2008</td>\n",
       "      <td>2</td>\n",
       "    </tr>\n",
       "    <tr>\n",
       "      <th>1</th>\n",
       "      <td>Amai Kamarudin</td>\n",
       "      <td>Temuan Takdir</td>\n",
       "      <td>2016</td>\n",
       "      <td>Crime</td>\n",
       "      <td>Male</td>\n",
       "      <td>Malay</td>\n",
       "      <td>2008</td>\n",
       "      <td>2</td>\n",
       "    </tr>\n",
       "    <tr>\n",
       "      <th>2</th>\n",
       "      <td>Josiah Hogan</td>\n",
       "      <td>7 Hari Kisah Cinta Langkawi</td>\n",
       "      <td>2019</td>\n",
       "      <td>Comedy</td>\n",
       "      <td>Male</td>\n",
       "      <td>Malay</td>\n",
       "      <td>2013</td>\n",
       "      <td>6</td>\n",
       "    </tr>\n",
       "    <tr>\n",
       "      <th>3</th>\n",
       "      <td>Josiah Hogan</td>\n",
       "      <td>KL Special Force</td>\n",
       "      <td>2018</td>\n",
       "      <td>Action</td>\n",
       "      <td>Male</td>\n",
       "      <td>Malay</td>\n",
       "      <td>2013</td>\n",
       "      <td>6</td>\n",
       "    </tr>\n",
       "    <tr>\n",
       "      <th>4</th>\n",
       "      <td>Josiah Hogan</td>\n",
       "      <td>KL Vampires</td>\n",
       "      <td>2019</td>\n",
       "      <td>Action</td>\n",
       "      <td>Male</td>\n",
       "      <td>Malay</td>\n",
       "      <td>2013</td>\n",
       "      <td>6</td>\n",
       "    </tr>\n",
       "  </tbody>\n",
       "</table>\n",
       "</div>"
      ],
      "text/plain": [
       "            Actor                         Film  Year   Genre Gender  Races  \\\n",
       "0  Amai Kamarudin  7 Hari Kisah Cinta Langkawi  2019  Comedy   Male  Malay   \n",
       "1  Amai Kamarudin                Temuan Takdir  2016   Crime   Male  Malay   \n",
       "2    Josiah Hogan  7 Hari Kisah Cinta Langkawi  2019  Comedy   Male  Malay   \n",
       "3    Josiah Hogan             KL Special Force  2018  Action   Male  Malay   \n",
       "4    Josiah Hogan                  KL Vampires  2019  Action   Male  Malay   \n",
       "\n",
       "   Debut year  Total film  \n",
       "0        2008           2  \n",
       "1        2008           2  \n",
       "2        2013           6  \n",
       "3        2013           6  \n",
       "4        2013           6  "
      ]
     },
     "execution_count": 4,
     "metadata": {},
     "output_type": "execute_result"
    }
   ],
   "source": [
    "#merge output new_index column into original data frame\n",
    "index = pd.merge(index,new_index,on ='Actor',how ='outer') \n",
    "\n",
    "#view the first five rows in data\n",
    "index.head()"
   ]
  },
  {
   "cell_type": "markdown",
   "id": "028f3bbc",
   "metadata": {},
   "source": [
    "## Creating nodes and edges from our data"
   ]
  },
  {
   "cell_type": "code",
   "execution_count": 5,
   "id": "8e55f14a",
   "metadata": {},
   "outputs": [
    {
     "data": {
      "text/html": [
       "<div>\n",
       "<style scoped>\n",
       "    .dataframe tbody tr th:only-of-type {\n",
       "        vertical-align: middle;\n",
       "    }\n",
       "\n",
       "    .dataframe tbody tr th {\n",
       "        vertical-align: top;\n",
       "    }\n",
       "\n",
       "    .dataframe thead th {\n",
       "        text-align: right;\n",
       "    }\n",
       "</style>\n",
       "<table border=\"1\" class=\"dataframe\">\n",
       "  <thead>\n",
       "    <tr style=\"text-align: right;\">\n",
       "      <th></th>\n",
       "      <th>from</th>\n",
       "      <th>to</th>\n",
       "      <th>weight</th>\n",
       "    </tr>\n",
       "  </thead>\n",
       "  <tbody>\n",
       "    <tr>\n",
       "      <th>0</th>\n",
       "      <td>A. Galak</td>\n",
       "      <td>AC Mizal</td>\n",
       "      <td>1</td>\n",
       "    </tr>\n",
       "    <tr>\n",
       "      <th>1</th>\n",
       "      <td>A. Galak</td>\n",
       "      <td>Achey Bocey</td>\n",
       "      <td>1</td>\n",
       "    </tr>\n",
       "    <tr>\n",
       "      <th>2</th>\n",
       "      <td>A. Galak</td>\n",
       "      <td>Along Eyzendy</td>\n",
       "      <td>1</td>\n",
       "    </tr>\n",
       "    <tr>\n",
       "      <th>3</th>\n",
       "      <td>A. Galak</td>\n",
       "      <td>Atu Zero</td>\n",
       "      <td>1</td>\n",
       "    </tr>\n",
       "    <tr>\n",
       "      <th>4</th>\n",
       "      <td>A. Galak</td>\n",
       "      <td>Azlee Senario</td>\n",
       "      <td>1</td>\n",
       "    </tr>\n",
       "  </tbody>\n",
       "</table>\n",
       "</div>"
      ],
      "text/plain": [
       "       from             to  weight\n",
       "0  A. Galak       AC Mizal       1\n",
       "1  A. Galak    Achey Bocey       1\n",
       "2  A. Galak  Along Eyzendy       1\n",
       "3  A. Galak       Atu Zero       1\n",
       "4  A. Galak  Azlee Senario       1"
      ]
     },
     "execution_count": 5,
     "metadata": {},
     "output_type": "execute_result"
    }
   ],
   "source": [
    "def get_combinations(group):\n",
    "    return pd.DataFrame([sorted(e) for e in list(combinations(group['Actor'].values, 2))], columns=['from', 'to'])\n",
    "\n",
    "edges = index.groupby('Film').apply(get_combinations) #get all 2-combinations of names within each group\n",
    "edges = edges.groupby(['from', 'to']).size().to_frame('weight').reset_index() #group by the node names to obtain the weight\n",
    "edges.head()"
   ]
  },
  {
   "cell_type": "code",
   "execution_count": 6,
   "id": "5c00f85c",
   "metadata": {},
   "outputs": [
    {
     "data": {
      "text/html": [
       "<div>\n",
       "<style scoped>\n",
       "    .dataframe tbody tr th:only-of-type {\n",
       "        vertical-align: middle;\n",
       "    }\n",
       "\n",
       "    .dataframe tbody tr th {\n",
       "        vertical-align: top;\n",
       "    }\n",
       "\n",
       "    .dataframe thead th {\n",
       "        text-align: right;\n",
       "    }\n",
       "</style>\n",
       "<table border=\"1\" class=\"dataframe\">\n",
       "  <thead>\n",
       "    <tr style=\"text-align: right;\">\n",
       "      <th></th>\n",
       "      <th>Actor</th>\n",
       "      <th>Gender</th>\n",
       "      <th>Races</th>\n",
       "      <th>Debut year</th>\n",
       "      <th>Total film</th>\n",
       "    </tr>\n",
       "  </thead>\n",
       "  <tbody>\n",
       "    <tr>\n",
       "      <th>0</th>\n",
       "      <td>Amai Kamarudin</td>\n",
       "      <td>Male</td>\n",
       "      <td>Malay</td>\n",
       "      <td>2008</td>\n",
       "      <td>2</td>\n",
       "    </tr>\n",
       "    <tr>\n",
       "      <th>2</th>\n",
       "      <td>Josiah Hogan</td>\n",
       "      <td>Male</td>\n",
       "      <td>Malay</td>\n",
       "      <td>2013</td>\n",
       "      <td>6</td>\n",
       "    </tr>\n",
       "    <tr>\n",
       "      <th>8</th>\n",
       "      <td>Shaharuddin Thamby</td>\n",
       "      <td>Male</td>\n",
       "      <td>Malay</td>\n",
       "      <td>1989</td>\n",
       "      <td>5</td>\n",
       "    </tr>\n",
       "    <tr>\n",
       "      <th>13</th>\n",
       "      <td>Sharifah Shahirah</td>\n",
       "      <td>Female</td>\n",
       "      <td>Malay</td>\n",
       "      <td>1993</td>\n",
       "      <td>2</td>\n",
       "    </tr>\n",
       "    <tr>\n",
       "      <th>15</th>\n",
       "      <td>Chi Azim</td>\n",
       "      <td>Male</td>\n",
       "      <td>Malay</td>\n",
       "      <td>2019</td>\n",
       "      <td>1</td>\n",
       "    </tr>\n",
       "  </tbody>\n",
       "</table>\n",
       "</div>"
      ],
      "text/plain": [
       "                 Actor  Gender  Races  Debut year  Total film\n",
       "0       Amai Kamarudin    Male  Malay        2008           2\n",
       "2         Josiah Hogan    Male  Malay        2013           6\n",
       "8   Shaharuddin Thamby    Male  Malay        1989           5\n",
       "13   Sharifah Shahirah  Female  Malay        1993           2\n",
       "15           Chi Azim     Male  Malay        2019           1"
      ]
     },
     "execution_count": 6,
     "metadata": {},
     "output_type": "execute_result"
    }
   ],
   "source": [
    "index.drop_duplicates(subset =\"Actor\",keep = \"first\", inplace = True)\n",
    "index.drop(index.columns[[1,2,3]], axis=1, inplace=True)\n",
    "\n",
    "index.head()"
   ]
  },
  {
   "cell_type": "markdown",
   "id": "4602073f",
   "metadata": {},
   "source": [
    "## Create network from dataframe"
   ]
  },
  {
   "cell_type": "code",
   "execution_count": 7,
   "id": "ed4673e4",
   "metadata": {},
   "outputs": [],
   "source": [
    "G = nx.from_pandas_edgelist(edges, 'from', 'to', 'weight')"
   ]
  },
  {
   "cell_type": "markdown",
   "id": "42265e5a",
   "metadata": {},
   "source": [
    "## Set node attributes"
   ]
  },
  {
   "cell_type": "code",
   "execution_count": 8,
   "id": "08be454b",
   "metadata": {},
   "outputs": [],
   "source": [
    "nx.set_node_attributes(G, index.set_index('Actor').to_dict('index'))"
   ]
  },
  {
   "cell_type": "code",
   "execution_count": 9,
   "id": "3e8f05b6",
   "metadata": {},
   "outputs": [
    {
     "data": {
      "text/plain": [
       "[('A. Galak',\n",
       "  {'Gender': 'Male', 'Races': 'Malay', 'Debut year': 1981, 'Total film': 3})]"
      ]
     },
     "execution_count": 9,
     "metadata": {},
     "output_type": "execute_result"
    }
   ],
   "source": [
    "# check attribute is correct\n",
    "list(G.nodes.data())[:1]"
   ]
  },
  {
   "cell_type": "markdown",
   "id": "b31bddd3",
   "metadata": {},
   "source": [
    "## Network info"
   ]
  },
  {
   "cell_type": "code",
   "execution_count": 10,
   "id": "8ae02d7b",
   "metadata": {},
   "outputs": [
    {
     "name": "stdout",
     "output_type": "stream",
     "text": [
      "Name: \n",
      "Type: Graph\n",
      "Number of nodes: 695\n",
      "Number of edges: 4190\n",
      "Average degree:  12.0576\n",
      "Network density: 0.01737399705595754\n"
     ]
    }
   ],
   "source": [
    "print(nx.info(G))\n",
    "print(\"Network density:\", nx.density(G))"
   ]
  },
  {
   "cell_type": "markdown",
   "id": "389a5c64",
   "metadata": {},
   "source": [
    "## Calculate centralities and set as attributes"
   ]
  },
  {
   "cell_type": "code",
   "execution_count": 11,
   "id": "1762cb02",
   "metadata": {},
   "outputs": [],
   "source": [
    "betweenness_dict = nx.betweenness_centrality(G) # Run betweenness centrality\n",
    "eigenvector_dict = nx.eigenvector_centrality(G) # Run eigenvector centrality\n",
    "closeness_dict = nx.closeness_centrality(G) # Run closeness centrality\n",
    "ndegree_dict = {n: d for n, d in G.degree()} # Run degree\n",
    "degree_dict = {n: d for n, d in G.degree(weight=\"weight\")} #Run weighted degree\n",
    "\n",
    "# Assign each to an attribute in your network\n",
    "nx.set_node_attributes(G, betweenness_dict, 'betweenness')\n",
    "nx.set_node_attributes(G, eigenvector_dict, 'eigenvector')\n",
    "nx.set_node_attributes(G, closeness_dict, 'closeness')\n",
    "nx.set_node_attributes(G, ndegree_dict, 'degree')\n",
    "nx.set_node_attributes(G, degree_dict, 'weighted_degree')\n"
   ]
  },
  {
   "cell_type": "code",
   "execution_count": 12,
   "id": "6bb0394e",
   "metadata": {},
   "outputs": [
    {
     "name": "stdout",
     "output_type": "stream",
     "text": [
      "{'Gender': 'Male', 'Races': 'Malay', 'Debut year': 2004, 'Total film': 16, 'betweenness': 0.05462922047006967, 'eigenvector': 0.19325222727853142, 'closeness': 0.42646540002933375, 'degree': 77, 'weighted_degree': 91}\n"
     ]
    }
   ],
   "source": [
    "#G.nodes[n]['Gender']\n",
    "print(G.nodes['Pekin Ibrahim'])"
   ]
  },
  {
   "cell_type": "markdown",
   "id": "7fc9e9dd",
   "metadata": {},
   "source": [
    "## Top 10 nodes in each centrality"
   ]
  },
  {
   "cell_type": "code",
   "execution_count": 13,
   "id": "f3947b42",
   "metadata": {},
   "outputs": [
    {
     "name": "stdout",
     "output_type": "stream",
     "text": [
      "Top 10 nodes by degree:\n",
      "('Namron', 79)\n",
      "{'Gender': 'Male', 'Races': 'Malay', 'Debut year': 2000, 'Total film': 12} \n",
      "\n",
      "('Pekin Ibrahim', 77)\n",
      "{'Gender': 'Male', 'Races': 'Malay', 'Debut year': 2004, 'Total film': 16} \n",
      "\n",
      "('Remy Ishak', 63)\n",
      "{'Gender': 'Male', 'Races': 'Malay', 'Debut year': 2007, 'Total film': 10} \n",
      "\n",
      "(\"Dato' Jalaluddin Hassan\", 62)\n",
      "{'Gender': 'Male', 'Races': 'Malay', 'Debut year': 1994, 'Total film': 9} \n",
      "\n",
      "('Soffi Jikan', 62)\n",
      "{'Gender': 'Male', 'Races': 'Malay', 'Debut year': 2001, 'Total film': 10} \n",
      "\n",
      "('Zizan Razak', 55)\n",
      "{'Gender': 'Male', 'Races': 'Malay', 'Debut year': 2010, 'Total film': 9} \n",
      "\n",
      "('Faizal Hussein', 54)\n",
      "{'Gender': 'Male', 'Races': 'Malay', 'Debut year': 1972, 'Total film': 8} \n",
      "\n",
      "('Kazar Saisi', 53)\n",
      "{'Gender': 'Male', 'Races': 'Malay', 'Debut year': 2007, 'Total film': 8} \n",
      "\n",
      "('Nora Danish', 50)\n",
      "{'Gender': 'Female', 'Races': 'Malay', 'Debut year': 2005, 'Total film': 9} \n",
      "\n",
      "('Kamarool Yusoff', 49)\n",
      "{'Gender': 'Male', 'Races': 'Malay', 'Debut year': 1985, 'Total film': 9} \n",
      "\n"
     ]
    }
   ],
   "source": [
    "sorted_degree = sorted(ndegree_dict.items(), key=itemgetter(1), reverse=True)\n",
    "\n",
    "print(\"Top 10 nodes by degree:\")\n",
    "for d in sorted_degree[:10]:\n",
    "    node_data = G.nodes[d[0]]\n",
    "    selected_data = {k: v for k, v in node_data.items() if k in ['Gender', 'Races', 'Debut year', 'Total film']}\n",
    "    print(d)\n",
    "    print(selected_data,\"\\n\")"
   ]
  },
  {
   "cell_type": "code",
   "execution_count": 14,
   "id": "4fdb9210",
   "metadata": {},
   "outputs": [
    {
     "name": "stdout",
     "output_type": "stream",
     "text": [
      "Top 10 nodes by weighted degree:\n",
      "('Pekin Ibrahim', 91)\n",
      "{'Gender': 'Male', 'Races': 'Malay', 'Debut year': 2004, 'Total film': 16} \n",
      "\n",
      "('Namron', 85)\n",
      "{'Gender': 'Male', 'Races': 'Malay', 'Debut year': 2000, 'Total film': 12} \n",
      "\n",
      "('Remy Ishak', 69)\n",
      "{'Gender': 'Male', 'Races': 'Malay', 'Debut year': 2007, 'Total film': 10} \n",
      "\n",
      "('Soffi Jikan', 68)\n",
      "{'Gender': 'Male', 'Races': 'Malay', 'Debut year': 2001, 'Total film': 10} \n",
      "\n",
      "(\"Dato' Jalaluddin Hassan\", 63)\n",
      "{'Gender': 'Male', 'Races': 'Malay', 'Debut year': 1994, 'Total film': 9} \n",
      "\n",
      "('Zizan Razak', 60)\n",
      "{'Gender': 'Male', 'Races': 'Malay', 'Debut year': 2010, 'Total film': 9} \n",
      "\n",
      "('Faizal Hussein', 60)\n",
      "{'Gender': 'Male', 'Races': 'Malay', 'Debut year': 1972, 'Total film': 8} \n",
      "\n",
      "('Nora Danish', 58)\n",
      "{'Gender': 'Female', 'Races': 'Malay', 'Debut year': 2005, 'Total film': 9} \n",
      "\n",
      "('Kamarool Yusoff', 57)\n",
      "{'Gender': 'Male', 'Races': 'Malay', 'Debut year': 1985, 'Total film': 9} \n",
      "\n",
      "('Kazar Saisi', 55)\n",
      "{'Gender': 'Male', 'Races': 'Malay', 'Debut year': 2007, 'Total film': 8} \n",
      "\n"
     ]
    }
   ],
   "source": [
    "sorted_weighted_degree = sorted(degree_dict.items(), key=itemgetter(1), reverse=True)\n",
    "\n",
    "print(\"Top 10 nodes by weighted degree:\")\n",
    "for wd in sorted_weighted_degree[:10]:\n",
    "    node_data = G.nodes[wd[0]]\n",
    "    selected_data = {k: v for k, v in node_data.items() if k in ['Gender', 'Races', 'Debut year', 'Total film']}\n",
    "    print(wd)\n",
    "    print(selected_data,\"\\n\")"
   ]
  },
  {
   "cell_type": "code",
   "execution_count": 15,
   "id": "c83abf67",
   "metadata": {},
   "outputs": [
    {
     "name": "stdout",
     "output_type": "stream",
     "text": [
      "Top 10 nodes by betweenness centrality:\n",
      "('Namron', 0.059373294748224115)\n",
      "{'Gender': 'Male', 'Races': 'Malay', 'Debut year': 2000, 'Total film': 12} \n",
      "\n",
      "('Pekin Ibrahim', 0.05462922047006967)\n",
      "{'Gender': 'Male', 'Races': 'Malay', 'Debut year': 2004, 'Total film': 16} \n",
      "\n",
      "('Remy Ishak', 0.054465631211705605)\n",
      "{'Gender': 'Male', 'Races': 'Malay', 'Debut year': 2007, 'Total film': 10} \n",
      "\n",
      "('Nur Fathiah Diaz', 0.05035326505067139)\n",
      "{'Gender': 'Female', 'Races': 'Malay', 'Debut year': 2009, 'Total film': 3} \n",
      "\n",
      "(\"Dato' Jalaluddin Hassan\", 0.04794044899510774)\n",
      "{'Gender': 'Male', 'Races': 'Malay', 'Debut year': 1994, 'Total film': 9} \n",
      "\n",
      "('Fadlan Hazim', 0.04415906304491798)\n",
      "{'Gender': 'Male', 'Races': 'Malay', 'Debut year': 2014, 'Total film': 4} \n",
      "\n",
      "('Kazar Saisi', 0.03983286419437152)\n",
      "{'Gender': 'Male', 'Races': 'Malay', 'Debut year': 2007, 'Total film': 8} \n",
      "\n",
      "('Soffi Jikan', 0.03708206352161522)\n",
      "{'Gender': 'Male', 'Races': 'Malay', 'Debut year': 2001, 'Total film': 10} \n",
      "\n",
      "('Faizal Hussein', 0.03016197383200122)\n",
      "{'Gender': 'Male', 'Races': 'Malay', 'Debut year': 1972, 'Total film': 8} \n",
      "\n",
      "('Ruminah Sidek', 0.02892156370264485)\n",
      "{'Gender': 'Female', 'Races': 'Malay', 'Debut year': 1968, 'Total film': 5} \n",
      "\n"
     ]
    }
   ],
   "source": [
    "sorted_betweenness = sorted(betweenness_dict.items(), key=itemgetter(1), reverse=True)\n",
    "\n",
    "print(\"Top 10 nodes by betweenness centrality:\")\n",
    "for b in sorted_betweenness[:10]:\n",
    "    node_data = G.nodes[b[0]]\n",
    "    selected_data = {k: v for k, v in node_data.items() if k in ['Gender', 'Races', 'Debut year', 'Total film']}\n",
    "    print(b)\n",
    "    print(selected_data,\"\\n\")"
   ]
  },
  {
   "cell_type": "code",
   "execution_count": 16,
   "id": "f56ffc16",
   "metadata": {},
   "outputs": [
    {
     "name": "stdout",
     "output_type": "stream",
     "text": [
      "Top 10 nodes by closeness:\n",
      "('Pekin Ibrahim', 0.42646540002933375)\n",
      "{'Gender': 'Male', 'Races': 'Malay', 'Debut year': 2004, 'Total film': 16} \n",
      "\n",
      "('Namron', 0.4175627553149167)\n",
      "{'Gender': 'Male', 'Races': 'Malay', 'Debut year': 2000, 'Total film': 12} \n",
      "\n",
      "('Soffi Jikan', 0.4167208949211366)\n",
      "{'Gender': 'Male', 'Races': 'Malay', 'Debut year': 2001, 'Total film': 10} \n",
      "\n",
      "('Remy Ishak', 0.4120137485997683)\n",
      "{'Gender': 'Male', 'Races': 'Malay', 'Debut year': 2007, 'Total film': 10} \n",
      "\n",
      "('Faizal Hussein', 0.41174016709339395)\n",
      "{'Gender': 'Male', 'Races': 'Malay', 'Debut year': 1972, 'Total film': 8} \n",
      "\n",
      "('Saiful Apek', 0.40661028960173856)\n",
      "{'Gender': 'Male', 'Races': 'Malay', 'Debut year': 1998, 'Total film': 6} \n",
      "\n",
      "(\"Dato' Jalaluddin Hassan\", 0.4029114305670249)\n",
      "{'Gender': 'Male', 'Races': 'Malay', 'Debut year': 1994, 'Total film': 9} \n",
      "\n",
      "('Nora Danish', 0.4013467259822986)\n",
      "{'Gender': 'Female', 'Races': 'Malay', 'Debut year': 2005, 'Total film': 9} \n",
      "\n",
      "('Kamarool Yusoff', 0.4003103238493553)\n",
      "{'Gender': 'Male', 'Races': 'Malay', 'Debut year': 1985, 'Total film': 9} \n",
      "\n",
      "('Siti Saleha', 0.3979978765357197)\n",
      "{'Gender': 'Female', 'Races': 'Malay', 'Debut year': 2013, 'Total film': 5} \n",
      "\n"
     ]
    }
   ],
   "source": [
    "sorted_closeness = sorted(closeness_dict.items(), key=itemgetter(1), reverse=True)\n",
    "\n",
    "print(\"Top 10 nodes by closeness:\")\n",
    "for a in sorted_closeness[:10]:\n",
    "    node_data = G.nodes[a[0]]\n",
    "    selected_data = {k: v for k, v in node_data.items() if k in ['Gender', 'Races', 'Debut year', 'Total film']}\n",
    "    print(a)\n",
    "    print(selected_data,\"\\n\")"
   ]
  },
  {
   "cell_type": "code",
   "execution_count": 17,
   "id": "698cf199",
   "metadata": {},
   "outputs": [
    {
     "name": "stdout",
     "output_type": "stream",
     "text": [
      "Top 10 nodes by eigenvector centrality:\n",
      "('Pekin Ibrahim', 0.42646540002933375)\n",
      "{'Gender': 'Male', 'Races': 'Malay', 'Debut year': 2004, 'Total film': 16} \n",
      "\n",
      "('Namron', 0.4175627553149167)\n",
      "{'Gender': 'Male', 'Races': 'Malay', 'Debut year': 2000, 'Total film': 12} \n",
      "\n",
      "('Soffi Jikan', 0.4167208949211366)\n",
      "{'Gender': 'Male', 'Races': 'Malay', 'Debut year': 2001, 'Total film': 10} \n",
      "\n",
      "('Remy Ishak', 0.4120137485997683)\n",
      "{'Gender': 'Male', 'Races': 'Malay', 'Debut year': 2007, 'Total film': 10} \n",
      "\n",
      "('Faizal Hussein', 0.41174016709339395)\n",
      "{'Gender': 'Male', 'Races': 'Malay', 'Debut year': 1972, 'Total film': 8} \n",
      "\n",
      "('Saiful Apek', 0.40661028960173856)\n",
      "{'Gender': 'Male', 'Races': 'Malay', 'Debut year': 1998, 'Total film': 6} \n",
      "\n",
      "(\"Dato' Jalaluddin Hassan\", 0.4029114305670249)\n",
      "{'Gender': 'Male', 'Races': 'Malay', 'Debut year': 1994, 'Total film': 9} \n",
      "\n",
      "('Nora Danish', 0.4013467259822986)\n",
      "{'Gender': 'Female', 'Races': 'Malay', 'Debut year': 2005, 'Total film': 9} \n",
      "\n",
      "('Kamarool Yusoff', 0.4003103238493553)\n",
      "{'Gender': 'Male', 'Races': 'Malay', 'Debut year': 1985, 'Total film': 9} \n",
      "\n",
      "('Siti Saleha', 0.3979978765357197)\n",
      "{'Gender': 'Female', 'Races': 'Malay', 'Debut year': 2013, 'Total film': 5} \n",
      "\n"
     ]
    }
   ],
   "source": [
    "sorted_eigenvector = sorted(eigenvector_dict.items(), key=itemgetter(1), reverse=True)\n",
    "\n",
    "print(\"Top 10 nodes by eigenvector centrality:\")\n",
    "for e in sorted_closeness[:10]:\n",
    "    node_data = G.nodes[e[0]]\n",
    "    selected_data = {k: v for k, v in node_data.items() if k in ['Gender', 'Races', 'Debut year', 'Total film']}\n",
    "    print(e)\n",
    "    print(selected_data,\"\\n\")    "
   ]
  }
 ],
 "metadata": {
  "kernelspec": {
   "display_name": "Python 3 (ipykernel)",
   "language": "python",
   "name": "python3"
  },
  "language_info": {
   "codemirror_mode": {
    "name": "ipython",
    "version": 3
   },
   "file_extension": ".py",
   "mimetype": "text/x-python",
   "name": "python",
   "nbconvert_exporter": "python",
   "pygments_lexer": "ipython3",
   "version": "3.7.15"
  }
 },
 "nbformat": 4,
 "nbformat_minor": 5
}
